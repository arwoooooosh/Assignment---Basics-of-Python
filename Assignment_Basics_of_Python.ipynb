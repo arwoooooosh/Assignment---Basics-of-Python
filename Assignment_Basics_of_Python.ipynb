{
  "nbformat": 4,
  "nbformat_minor": 0,
  "metadata": {
    "colab": {
      "provenance": [],
      "collapsed_sections": [
        "O1qaR1xhSmzD",
        "zVe_Aho3cN0B",
        "m1Kc07GieFzL"
      ],
      "authorship_tag": "ABX9TyMUUyWAx/TTn7rR58jEY1Su",
      "include_colab_link": true
    },
    "kernelspec": {
      "name": "python3",
      "display_name": "Python 3"
    },
    "language_info": {
      "name": "python"
    }
  },
  "cells": [
    {
      "cell_type": "markdown",
      "metadata": {
        "id": "view-in-github",
        "colab_type": "text"
      },
      "source": [
        "<a href=\"https://colab.research.google.com/github/arwoooooosh/Assignment---Basics-of-Python/blob/main/Assignment_Basics_of_Python.ipynb\" target=\"_parent\"><img src=\"https://colab.research.google.com/assets/colab-badge.svg\" alt=\"Open In Colab\"/></a>"
      ]
    },
    {
      "cell_type": "markdown",
      "source": [
        "---\n",
        "# Q1. L is a list defined as L= [11, 12, 13, 14].\n",
        "---"
      ],
      "metadata": {
        "id": "O1qaR1xhSmzD"
      }
    },
    {
      "cell_type": "code",
      "execution_count": 54,
      "metadata": {
        "id": "NAgPspcnRrZb"
      },
      "outputs": [],
      "source": [
        "L = [11, 12, 13, 14]"
      ]
    },
    {
      "cell_type": "markdown",
      "source": [
        "---\n",
        "(i) WAP to add 50 and 60 to L.\n",
        "---"
      ],
      "metadata": {
        "id": "A_sRtLQaSWYU"
      }
    },
    {
      "cell_type": "code",
      "source": [
        "L.extend([50,60])\n",
        "print(L)"
      ],
      "metadata": {
        "colab": {
          "base_uri": "https://localhost:8080/"
        },
        "id": "Ne57niBEVcTr",
        "outputId": "caeb11fb-ac16-4b11-9a9d-39a39e88665a"
      },
      "execution_count": 55,
      "outputs": [
        {
          "output_type": "stream",
          "name": "stdout",
          "text": [
            "[11, 12, 13, 14, 50, 60]\n"
          ]
        }
      ]
    },
    {
      "cell_type": "markdown",
      "source": [
        "---\n",
        "(ii) WAP to remove 11 and 13 from L.\n",
        "---"
      ],
      "metadata": {
        "id": "0qhM9L3yW2Hx"
      }
    },
    {
      "cell_type": "code",
      "source": [
        "L.remove(11)\n",
        "L.remove(13)\n",
        "print(L)"
      ],
      "metadata": {
        "colab": {
          "base_uri": "https://localhost:8080/"
        },
        "id": "lvqoDj7DW8CS",
        "outputId": "c54b3a80-1250-44c9-c35d-682cd8b3d514"
      },
      "execution_count": 56,
      "outputs": [
        {
          "output_type": "stream",
          "name": "stdout",
          "text": [
            "[12, 14, 50, 60]\n"
          ]
        }
      ]
    },
    {
      "cell_type": "markdown",
      "source": [
        "---\n",
        "(iii) WAP to sort L in ascending order.\n",
        "---"
      ],
      "metadata": {
        "id": "HI_aSZTsXJLK"
      }
    },
    {
      "cell_type": "code",
      "source": [
        "L.sort()\n",
        "print(L)"
      ],
      "metadata": {
        "colab": {
          "base_uri": "https://localhost:8080/"
        },
        "id": "T4CrFSalXNci",
        "outputId": "07fafa8a-d198-4a71-a611-1acc3fe70ec1"
      },
      "execution_count": 57,
      "outputs": [
        {
          "output_type": "stream",
          "name": "stdout",
          "text": [
            "[12, 14, 50, 60]\n"
          ]
        }
      ]
    },
    {
      "cell_type": "markdown",
      "source": [
        "---\n",
        "(iv) WAP to sort L in descending order.\n",
        "---"
      ],
      "metadata": {
        "id": "jfg0TeIHXlQq"
      }
    },
    {
      "cell_type": "code",
      "source": [
        "L.sort(reverse=True)\n",
        "print(L)"
      ],
      "metadata": {
        "colab": {
          "base_uri": "https://localhost:8080/"
        },
        "id": "UoIi9XZiXtXp",
        "outputId": "0dd750cb-ddac-49b0-fb45-5a87b1b5169e"
      },
      "execution_count": 58,
      "outputs": [
        {
          "output_type": "stream",
          "name": "stdout",
          "text": [
            "[60, 50, 14, 12]\n"
          ]
        }
      ]
    },
    {
      "cell_type": "markdown",
      "source": [
        "---\n",
        "(v) WAP to search for 13 in L.\n",
        "---"
      ],
      "metadata": {
        "id": "7pZApivLXmpz"
      }
    },
    {
      "cell_type": "code",
      "source": [
        "L.index(13)"
      ],
      "metadata": {
        "colab": {
          "base_uri": "https://localhost:8080/",
          "height": 165
        },
        "id": "AibtVyAjX0vy",
        "outputId": "4446e809-acf4-4432-a04c-ee0fdb6416ca"
      },
      "execution_count": 59,
      "outputs": [
        {
          "output_type": "error",
          "ename": "ValueError",
          "evalue": "ignored",
          "traceback": [
            "\u001b[0;31m---------------------------------------------------------------------------\u001b[0m",
            "\u001b[0;31mValueError\u001b[0m                                Traceback (most recent call last)",
            "\u001b[0;32m<ipython-input-59-106875d11a64>\u001b[0m in \u001b[0;36m<cell line: 1>\u001b[0;34m()\u001b[0m\n\u001b[0;32m----> 1\u001b[0;31m \u001b[0mL\u001b[0m\u001b[0;34m.\u001b[0m\u001b[0mindex\u001b[0m\u001b[0;34m(\u001b[0m\u001b[0;36m13\u001b[0m\u001b[0;34m)\u001b[0m\u001b[0;34m\u001b[0m\u001b[0;34m\u001b[0m\u001b[0m\n\u001b[0m",
            "\u001b[0;31mValueError\u001b[0m: 13 is not in list"
          ]
        }
      ]
    },
    {
      "cell_type": "markdown",
      "source": [
        "---\n",
        "(vi) WAP to count the number of elements present in L\n",
        "---"
      ],
      "metadata": {
        "id": "unSqQrcpYw3C"
      }
    },
    {
      "cell_type": "code",
      "source": [
        "len(L)"
      ],
      "metadata": {
        "id": "zd7Nf4jNYx9p"
      },
      "execution_count": null,
      "outputs": []
    },
    {
      "cell_type": "markdown",
      "source": [
        "---\n",
        "(vii) WAP to sum all the elements in L.\n",
        "---\n"
      ],
      "metadata": {
        "id": "uYRqO7DaZH2T"
      }
    },
    {
      "cell_type": "code",
      "source": [
        "sum(L)"
      ],
      "metadata": {
        "id": "qHVa8ZneZV2b"
      },
      "execution_count": null,
      "outputs": []
    },
    {
      "cell_type": "markdown",
      "source": [
        "---\n",
        "(viii) WAP to sum all ODD numbers in L.\n",
        "---"
      ],
      "metadata": {
        "id": "QAsLKBCMZWUb"
      }
    },
    {
      "cell_type": "code",
      "source": [
        "sum(num for num in L if num % 2 != 0)"
      ],
      "metadata": {
        "id": "aTw4NSPRZZOq"
      },
      "execution_count": null,
      "outputs": []
    },
    {
      "cell_type": "markdown",
      "source": [
        "---\n",
        "(ix) WAP to sum all EVEN numbers in L.\n",
        "---"
      ],
      "metadata": {
        "id": "WkYJ5eCSZYQK"
      }
    },
    {
      "cell_type": "code",
      "source": [
        "sum(num for num in L if num % 2 == 0)"
      ],
      "metadata": {
        "id": "DGegkJw_Zb7C"
      },
      "execution_count": null,
      "outputs": []
    },
    {
      "cell_type": "markdown",
      "source": [
        "---\n",
        "(x) WAP to sum all PRIME numbers in L.\n",
        "---"
      ],
      "metadata": {
        "id": "UP0OY-h-ZcXq"
      }
    },
    {
      "cell_type": "code",
      "source": [
        "def is_prime(num):\n",
        "    if num < 2:\n",
        "        return False\n",
        "    for i in range(2, int(num ** 0.5) + 1):\n",
        "        if num % i == 0:\n",
        "            return False\n",
        "    return True\n",
        "\n",
        "sum(num for num in L if is_prime(num))"
      ],
      "metadata": {
        "id": "pXEcM2u9ZdxS"
      },
      "execution_count": null,
      "outputs": []
    },
    {
      "cell_type": "markdown",
      "source": [
        "---\n",
        "(xi) WAP to clear all the elements in L.\n",
        "---"
      ],
      "metadata": {
        "id": "UqqFsZ9rZeGS"
      }
    },
    {
      "cell_type": "code",
      "source": [
        "L.clear()\n",
        "L"
      ],
      "metadata": {
        "id": "FWk9EsfRZf6C"
      },
      "execution_count": null,
      "outputs": []
    },
    {
      "cell_type": "markdown",
      "source": [
        "---\n",
        "(xii) WAP to delete L.\n",
        "---"
      ],
      "metadata": {
        "id": "mn_oiAoQZgTC"
      }
    },
    {
      "cell_type": "code",
      "source": [
        "del L"
      ],
      "metadata": {
        "id": "1M2mgZdoZg_K"
      },
      "execution_count": null,
      "outputs": []
    },
    {
      "cell_type": "markdown",
      "source": [
        "---\n",
        "# Q2. D is a dictionary defined as D= {1:5.6, 2:7.8, 3:6.6, 4:8.7, 5:7.7}.\n",
        "---"
      ],
      "metadata": {
        "id": "zVe_Aho3cN0B"
      }
    },
    {
      "cell_type": "code",
      "source": [
        "D = {1: 5.6, 2: 7.8, 3: 6.6, 4: 8.7, 5: 7.7}"
      ],
      "metadata": {
        "id": "rdo-pvUTcUTi"
      },
      "execution_count": 68,
      "outputs": []
    },
    {
      "cell_type": "markdown",
      "source": [
        "---\n",
        "(i) WAP to add new entry in D; key=8 and value is 8.8\n",
        "---"
      ],
      "metadata": {
        "id": "_t2BntKhcgpy"
      }
    },
    {
      "cell_type": "code",
      "source": [
        "D[8] = 8.8\n",
        "D"
      ],
      "metadata": {
        "colab": {
          "base_uri": "https://localhost:8080/"
        },
        "id": "puUiJu1gckwa",
        "outputId": "8f6de78d-844e-462c-9467-0647558474c5"
      },
      "execution_count": 62,
      "outputs": [
        {
          "output_type": "execute_result",
          "data": {
            "text/plain": [
              "{1: 5.6, 2: 7.8, 3: 6.6, 4: 8.7, 5: 7.7, 8: 8.8}"
            ]
          },
          "metadata": {},
          "execution_count": 62
        }
      ]
    },
    {
      "cell_type": "markdown",
      "source": [
        "---\n",
        "(ii) WAP to remove key=2.\n",
        "---"
      ],
      "metadata": {
        "id": "3CVLjDeIclIq"
      }
    },
    {
      "cell_type": "code",
      "source": [
        "del D[2]\n",
        "D"
      ],
      "metadata": {
        "colab": {
          "base_uri": "https://localhost:8080/"
        },
        "id": "7-AcHa5JcpgE",
        "outputId": "dcfdaeb4-72cb-41cd-e4c9-51cf79682e9d"
      },
      "execution_count": 64,
      "outputs": [
        {
          "output_type": "execute_result",
          "data": {
            "text/plain": [
              "{1: 5.6, 3: 6.6, 4: 8.7, 5: 7.7}"
            ]
          },
          "metadata": {},
          "execution_count": 64
        }
      ]
    },
    {
      "cell_type": "markdown",
      "source": [
        "---\n",
        "(iii) WAP to check whether 6 key is present in D.\n",
        "---"
      ],
      "metadata": {
        "id": "CR0KMm0dcqfr"
      }
    },
    {
      "cell_type": "code",
      "source": [
        "if 6 in D:\n",
        "    print(\"Key 6 is present in the dictionary.\")\n",
        "else:\n",
        "    print(\"Key 6 is not present in the dictionary.\")"
      ],
      "metadata": {
        "colab": {
          "base_uri": "https://localhost:8080/"
        },
        "id": "Wgvs510nctq0",
        "outputId": "83e7d323-0904-4172-ec53-df7f0559124f"
      },
      "execution_count": 65,
      "outputs": [
        {
          "output_type": "stream",
          "name": "stdout",
          "text": [
            "Key 6 is not present in the dictionary.\n"
          ]
        }
      ]
    },
    {
      "cell_type": "markdown",
      "source": [
        "---\n",
        "(iv) WAP to count the number of elements present in D.\n",
        "---"
      ],
      "metadata": {
        "id": "15HBZf0scuir"
      }
    },
    {
      "cell_type": "code",
      "source": [
        "len(D)"
      ],
      "metadata": {
        "colab": {
          "base_uri": "https://localhost:8080/"
        },
        "id": "a_3s3yC5cuyT",
        "outputId": "b352b418-e5c9-4ea7-df73-a8df85a33c9a"
      },
      "execution_count": 66,
      "outputs": [
        {
          "output_type": "execute_result",
          "data": {
            "text/plain": [
              "4"
            ]
          },
          "metadata": {},
          "execution_count": 66
        }
      ]
    },
    {
      "cell_type": "markdown",
      "source": [
        "---\n",
        "(v) WAP to add all the values present D.\n",
        "---"
      ],
      "metadata": {
        "id": "zvR2l0H2cvFb"
      }
    },
    {
      "cell_type": "code",
      "source": [
        "sum(D.values())"
      ],
      "metadata": {
        "colab": {
          "base_uri": "https://localhost:8080/"
        },
        "id": "jY3uuIWRcvR1",
        "outputId": "fe107f97-b364-4954-dcf1-a159a61835d7"
      },
      "execution_count": 69,
      "outputs": [
        {
          "output_type": "execute_result",
          "data": {
            "text/plain": [
              "36.4"
            ]
          },
          "metadata": {},
          "execution_count": 69
        }
      ]
    },
    {
      "cell_type": "markdown",
      "source": [
        "---\n",
        "(vi) WAP to update the value of 3 to 7.1.\n",
        "---"
      ],
      "metadata": {
        "id": "KauDwZ5qcvh8"
      }
    },
    {
      "cell_type": "code",
      "source": [
        "D[3] = 7.1\n",
        "D"
      ],
      "metadata": {
        "colab": {
          "base_uri": "https://localhost:8080/"
        },
        "id": "9KTxFQsecvtL",
        "outputId": "5dbde323-5c69-40e6-a9a0-99082edd363c"
      },
      "execution_count": 70,
      "outputs": [
        {
          "output_type": "execute_result",
          "data": {
            "text/plain": [
              "{1: 5.6, 2: 7.8, 3: 7.1, 4: 8.7, 5: 7.7}"
            ]
          },
          "metadata": {},
          "execution_count": 70
        }
      ]
    },
    {
      "cell_type": "markdown",
      "source": [
        "---\n",
        "(vii) WAP to clear the dictionary\n",
        "---"
      ],
      "metadata": {
        "id": "ZI_okK5Icv70"
      }
    },
    {
      "cell_type": "code",
      "source": [
        "D.clear()\n",
        "D"
      ],
      "metadata": {
        "colab": {
          "base_uri": "https://localhost:8080/"
        },
        "id": "V39M7D42cwGT",
        "outputId": "6e3bb915-a45f-4880-df01-0326703306e6"
      },
      "execution_count": 71,
      "outputs": [
        {
          "output_type": "execute_result",
          "data": {
            "text/plain": [
              "{}"
            ]
          },
          "metadata": {},
          "execution_count": 71
        }
      ]
    },
    {
      "cell_type": "markdown",
      "source": [
        "---\n",
        "# Q3. S1 is a set defined as S1= [10, 20, 30, 40, 50, 60], S2 is a set defined as\n",
        "# S2= [40, 50, 60, 70, 80, 90].\n",
        "---\n"
      ],
      "metadata": {
        "id": "m1Kc07GieFzL"
      }
    },
    {
      "cell_type": "code",
      "source": [
        "S1 = {10, 20, 30, 40, 50, 60}\n",
        "S2 = {40, 50, 60, 70, 80, 90}"
      ],
      "metadata": {
        "id": "yLTym-fEn8VB"
      },
      "execution_count": 82,
      "outputs": []
    },
    {
      "cell_type": "markdown",
      "source": [
        "---\n",
        "(i) WAP to add 55 and 66 in Set S1.\n",
        "---\n"
      ],
      "metadata": {
        "id": "aXwZ0bvXn8fw"
      }
    },
    {
      "cell_type": "code",
      "source": [
        "S1.add(55)\n",
        "S1.add(66)\n",
        "S1"
      ],
      "metadata": {
        "colab": {
          "base_uri": "https://localhost:8080/"
        },
        "id": "LRdnvdaFn8og",
        "outputId": "3a9739f8-1b5b-496e-e5ae-74765b8d3ca7"
      },
      "execution_count": 83,
      "outputs": [
        {
          "output_type": "execute_result",
          "data": {
            "text/plain": [
              "{10, 20, 30, 40, 50, 55, 60, 66}"
            ]
          },
          "metadata": {},
          "execution_count": 83
        }
      ]
    },
    {
      "cell_type": "markdown",
      "source": [
        "---\n",
        "(ii) WAP to remove 10 and 30 from Set S1.\n",
        "---"
      ],
      "metadata": {
        "id": "7z-vSQj5n8xo"
      }
    },
    {
      "cell_type": "code",
      "source": [
        "S1.remove(10)\n",
        "S1.remove(30)\n",
        "S1"
      ],
      "metadata": {
        "colab": {
          "base_uri": "https://localhost:8080/"
        },
        "id": "r4DGqJiOn84Y",
        "outputId": "9a780d60-8f3f-46e5-b335-8b67e1fae252"
      },
      "execution_count": 84,
      "outputs": [
        {
          "output_type": "execute_result",
          "data": {
            "text/plain": [
              "{20, 40, 50, 55, 60, 66}"
            ]
          },
          "metadata": {},
          "execution_count": 84
        }
      ]
    },
    {
      "cell_type": "markdown",
      "source": [
        "---\n",
        "(iii) WAP to check whether 40 is present in S1.\n",
        "---"
      ],
      "metadata": {
        "id": "Z_9E8DqDn8_4"
      }
    },
    {
      "cell_type": "code",
      "source": [
        "if 40 in S1:\n",
        "    print(\"40 is present in Set S1.\")\n",
        "else:\n",
        "    print(\"40 is not present in Set S1.\")"
      ],
      "metadata": {
        "colab": {
          "base_uri": "https://localhost:8080/"
        },
        "id": "tvfjFggmn9Fx",
        "outputId": "08985c59-32e7-416d-d6d7-ddc7ee553458"
      },
      "execution_count": 85,
      "outputs": [
        {
          "output_type": "stream",
          "name": "stdout",
          "text": [
            "40 is present in Set S1.\n"
          ]
        }
      ]
    },
    {
      "cell_type": "markdown",
      "source": [
        "---\n",
        "(iv) WAP to find the union between S1 and S2.\n",
        "---"
      ],
      "metadata": {
        "id": "5tMEXW9En9NQ"
      }
    },
    {
      "cell_type": "code",
      "source": [
        "S1.union(S2)\n"
      ],
      "metadata": {
        "colab": {
          "base_uri": "https://localhost:8080/"
        },
        "id": "SFfpFzwTpllA",
        "outputId": "8d1edc19-86af-41b5-cff4-4d765c70f726"
      },
      "execution_count": 86,
      "outputs": [
        {
          "output_type": "execute_result",
          "data": {
            "text/plain": [
              "{20, 40, 50, 55, 60, 66, 70, 80, 90}"
            ]
          },
          "metadata": {},
          "execution_count": 86
        }
      ]
    },
    {
      "cell_type": "markdown",
      "source": [
        "---\n",
        "(v) WAP to find the intersection between S1 and S2.\n",
        "---"
      ],
      "metadata": {
        "id": "yFeXM1_vpjjp"
      }
    },
    {
      "cell_type": "code",
      "source": [
        "S1.intersection(S2)\n"
      ],
      "metadata": {
        "colab": {
          "base_uri": "https://localhost:8080/"
        },
        "id": "pViaNVb_pjuh",
        "outputId": "5ecedd77-f669-4a4f-9d7e-103754dd3005"
      },
      "execution_count": 87,
      "outputs": [
        {
          "output_type": "execute_result",
          "data": {
            "text/plain": [
              "{40, 50, 60}"
            ]
          },
          "metadata": {},
          "execution_count": 87
        }
      ]
    },
    {
      "cell_type": "markdown",
      "source": [
        "--\n",
        "(vi) WAP to find the S1 - S2.\n",
        "---"
      ],
      "metadata": {
        "id": "627rMnmNpj3R"
      }
    },
    {
      "cell_type": "code",
      "source": [
        "S1-S2"
      ],
      "metadata": {
        "colab": {
          "base_uri": "https://localhost:8080/"
        },
        "id": "3e-ghFw2pkAx",
        "outputId": "7862f979-1534-43f9-f9e0-7059aabcb0fe"
      },
      "execution_count": 88,
      "outputs": [
        {
          "output_type": "execute_result",
          "data": {
            "text/plain": [
              "{20, 55, 66}"
            ]
          },
          "metadata": {},
          "execution_count": 88
        }
      ]
    },
    {
      "cell_type": "markdown",
      "source": [
        "---\n",
        "# Q4. Write the following program\n",
        "---"
      ],
      "metadata": {
        "id": "A8qPwe8UporX"
      }
    },
    {
      "cell_type": "markdown",
      "source": [
        "---\n",
        "(i) WAP to print 100 random strings whose length between 6 and 8.\n",
        "---"
      ],
      "metadata": {
        "id": "Q5-5SjEGtR-4"
      }
    },
    {
      "cell_type": "code",
      "source": [
        "import random\n",
        "import string\n",
        "\n",
        "# Generate and print 100 random strings\n",
        "for _ in range(100):\n",
        "    length = random.randint(6, 8)\n",
        "    random_string = ''.join(random.choices(string.ascii_letters + string.digits, k=length))\n",
        "    print(random_string)\n"
      ],
      "metadata": {
        "colab": {
          "base_uri": "https://localhost:8080/"
        },
        "id": "5Qn-IX4Cvc4A",
        "outputId": "caadca62-49af-474c-9929-81e23d8fa80e"
      },
      "execution_count": 89,
      "outputs": [
        {
          "output_type": "stream",
          "name": "stdout",
          "text": [
            "pUthtTf\n",
            "AZ7FRO\n",
            "eb57VBDc\n",
            "ui0kBCwT\n",
            "PgAUOHh\n",
            "bUVYDYI\n",
            "zi2RNm\n",
            "ZLOdKBH\n",
            "bIWRtApb\n",
            "vn8Jrt\n",
            "EAioIH2x\n",
            "aIplAXTU\n",
            "zUjptkd\n",
            "fq30oG\n",
            "Y6hzE4\n",
            "xkEMup\n",
            "NOWJLa\n",
            "nrVaBlgX\n",
            "uzd7vFh\n",
            "uh0Mj3Kp\n",
            "2MDnnUu\n",
            "14qpb0k\n",
            "rE5zrBM\n",
            "WvSr7qE\n",
            "ez8Jabz3\n",
            "cBTZQ1o\n",
            "pD3F1Mo3\n",
            "Bl8R9ahV\n",
            "nD0Zqlw\n",
            "ljNiyr\n",
            "Xjia4ujK\n",
            "0SaEWO\n",
            "49mvFnG\n",
            "D1mZgb\n",
            "Nh9jQs2\n",
            "RaB3j87G\n",
            "2Cqs2fL\n",
            "eyABVARb\n",
            "tjTCr3\n",
            "aTC8zrL\n",
            "Zyb2Cbc\n",
            "6wofmS\n",
            "05ccTrrw\n",
            "MDz3e5QY\n",
            "Oz1i2K\n",
            "ozSa1Om\n",
            "RrRyCW\n",
            "01WsMx7\n",
            "MfhAPI\n",
            "0rTMDF\n",
            "0cDOO6\n",
            "kHxMLLFV\n",
            "dBNfPrvs\n",
            "byoVA5C2\n",
            "JWQF8xt\n",
            "aFrQtf\n",
            "fwMii7\n",
            "HWFvmVO\n",
            "7yuMW7PN\n",
            "HfHNJl8\n",
            "mK2GGD\n",
            "mA3q7pZr\n",
            "Mjx8uLQ\n",
            "6yKHmnfO\n",
            "W5wIckP\n",
            "KnobHL\n",
            "uQz152\n",
            "k0NWi3PI\n",
            "UE4Bde0k\n",
            "vJwybeJ\n",
            "lx2hYxl2\n",
            "UQ7OnJjO\n",
            "OYL6OA\n",
            "YMuaMI0V\n",
            "doQECD\n",
            "1mCXOnh\n",
            "Jo2M1B\n",
            "8QQz2C2\n",
            "9rjQg3SL\n",
            "4x1csnh\n",
            "w2pzuHu\n",
            "kHzvYx\n",
            "oXI08My\n",
            "qpYBVO7\n",
            "5fCA2mS\n",
            "AjmZvk\n",
            "sUkuLz\n",
            "WW2FkP\n",
            "RJqOKTBz\n",
            "1gCOGOXq\n",
            "XOrndGc\n",
            "R7V3uiL\n",
            "qVAXsvNq\n",
            "8ZJos8wW\n",
            "Bd9hFwfI\n",
            "IDCrFE\n",
            "5dfqf7\n",
            "5i6GHDr\n",
            "FtL6y34s\n",
            "f41nlp2s\n"
          ]
        }
      ]
    },
    {
      "cell_type": "markdown",
      "source": [
        "---\n",
        "(ii) WAP to print all prime numbers between 600 and 800\n",
        "---"
      ],
      "metadata": {
        "id": "VPxAT9-0vpdw"
      }
    },
    {
      "cell_type": "code",
      "source": [
        "lower_limit = 600\n",
        "upper_limit = 800\n",
        "\n",
        "print(\"Prime numbers between\", lower_limit, \"and\", upper_limit, \"are:\")\n",
        "\n",
        "for num in range(lower_limit, upper_limit + 1):\n",
        "    if num > 1:\n",
        "        for i in range(2, int(num ** 0.5) + 1):\n",
        "            if (num % i) == 0:\n",
        "                break\n",
        "        else:\n",
        "            print(num)\n"
      ],
      "metadata": {
        "colab": {
          "base_uri": "https://localhost:8080/"
        },
        "id": "vW0tl3-nvp4h",
        "outputId": "5d38b8af-e866-42da-9309-06516739f0a7"
      },
      "execution_count": 90,
      "outputs": [
        {
          "output_type": "stream",
          "name": "stdout",
          "text": [
            "Prime numbers between 600 and 800 are:\n",
            "601\n",
            "607\n",
            "613\n",
            "617\n",
            "619\n",
            "631\n",
            "641\n",
            "643\n",
            "647\n",
            "653\n",
            "659\n",
            "661\n",
            "673\n",
            "677\n",
            "683\n",
            "691\n",
            "701\n",
            "709\n",
            "719\n",
            "727\n",
            "733\n",
            "739\n",
            "743\n",
            "751\n",
            "757\n",
            "761\n",
            "769\n",
            "773\n",
            "787\n",
            "797\n"
          ]
        }
      ]
    },
    {
      "cell_type": "markdown",
      "source": [
        "---\n",
        "(iii) WAP to print all numbers between 100 and 1000 that are divisible by 7 and 9.\n",
        "---"
      ],
      "metadata": {
        "id": "5S_7RuGwvqNJ"
      }
    },
    {
      "cell_type": "code",
      "source": [
        "lower_limit = 100\n",
        "upper_limit = 1000\n",
        "\n",
        "print(\"Numbers between\", lower_limit, \"and\", upper_limit, \"that are divisible by 7 and 9:\")\n",
        "\n",
        "for num in range(lower_limit, upper_limit + 1):\n",
        "    if num % 7 == 0 and num % 9 == 0:\n",
        "        print(num)\n"
      ],
      "metadata": {
        "colab": {
          "base_uri": "https://localhost:8080/"
        },
        "id": "UWSoh0R_vqYg",
        "outputId": "0b2f9059-a058-42b3-d21d-1075d95a350a"
      },
      "execution_count": 91,
      "outputs": [
        {
          "output_type": "stream",
          "name": "stdout",
          "text": [
            "Numbers between 100 and 1000 that are divisible by 7 and 9:\n",
            "126\n",
            "189\n",
            "252\n",
            "315\n",
            "378\n",
            "441\n",
            "504\n",
            "567\n",
            "630\n",
            "693\n",
            "756\n",
            "819\n",
            "882\n",
            "945\n"
          ]
        }
      ]
    },
    {
      "cell_type": "markdown",
      "source": [
        "---\n",
        "# Q5. WAP to create two lists of 10 random numbers between 10 and 30; Find\n",
        "---"
      ],
      "metadata": {
        "id": "tuGEDgNPytcA"
      }
    },
    {
      "cell_type": "code",
      "source": [
        "list1 = [random.randint(10, 30) for _ in range(10)]\n",
        "list2 = [random.randint(10, 30) for _ in range(10)]\n",
        "print(list1)\n",
        "print(list2)"
      ],
      "metadata": {
        "colab": {
          "base_uri": "https://localhost:8080/"
        },
        "id": "TD7m3CCcy4k4",
        "outputId": "1590f2b2-0f13-4bab-fe5c-08f3eebc26cd"
      },
      "execution_count": 105,
      "outputs": [
        {
          "output_type": "stream",
          "name": "stdout",
          "text": [
            "[24, 15, 19, 19, 24, 20, 21, 13, 29, 15]\n",
            "[15, 25, 26, 24, 13, 13, 19, 15, 28, 29]\n"
          ]
        }
      ]
    },
    {
      "cell_type": "markdown",
      "source": [
        "---\n",
        "(i) Common numbers in the two lists\n",
        "---"
      ],
      "metadata": {
        "id": "pXAWWfUjy-lp"
      }
    },
    {
      "cell_type": "code",
      "source": [
        "list(set(list1) & set(list2))"
      ],
      "metadata": {
        "colab": {
          "base_uri": "https://localhost:8080/"
        },
        "id": "pqLWJeRSy-yJ",
        "outputId": "48ea98e9-75f3-4b5a-dee8-e3b0bba31e7f"
      },
      "execution_count": 98,
      "outputs": [
        {
          "output_type": "execute_result",
          "data": {
            "text/plain": [
              "[17, 21, 23]"
            ]
          },
          "metadata": {},
          "execution_count": 98
        }
      ]
    },
    {
      "cell_type": "markdown",
      "source": [
        "---\n",
        "(ii) Unique numbers in both the list\n",
        "---"
      ],
      "metadata": {
        "id": "AmM2RDALy_Fx"
      }
    },
    {
      "cell_type": "code",
      "source": [
        "list(set(list1) | set(list2))"
      ],
      "metadata": {
        "colab": {
          "base_uri": "https://localhost:8080/"
        },
        "id": "I5wMC9k_y_Pp",
        "outputId": "f3056bd5-2e18-42e3-9361-416cbd19901b"
      },
      "execution_count": 100,
      "outputs": [
        {
          "output_type": "execute_result",
          "data": {
            "text/plain": [
              "[12, 13, 16, 17, 18, 21, 22, 28, 29]"
            ]
          },
          "metadata": {},
          "execution_count": 100
        }
      ]
    },
    {
      "cell_type": "markdown",
      "source": [
        "---\n",
        "(iii) Minimum in both the list\n",
        "---"
      ],
      "metadata": {
        "id": "xaZuuLExy_YB"
      }
    },
    {
      "cell_type": "code",
      "source": [
        "minimum_list1 = min(list1)\n",
        "minimum_list2 = min(list2)\n",
        "print(minimum_list1)\n",
        "print(minimum_list2)"
      ],
      "metadata": {
        "colab": {
          "base_uri": "https://localhost:8080/"
        },
        "id": "m93hWMVvy_ga",
        "outputId": "3ad9ab98-8075-43c2-c04c-32c3a05f59b6"
      },
      "execution_count": 102,
      "outputs": [
        {
          "output_type": "stream",
          "name": "stdout",
          "text": [
            "12\n",
            "12\n"
          ]
        }
      ]
    },
    {
      "cell_type": "markdown",
      "source": [
        "---\n",
        "(iv) Maximum in both the list\n",
        "---"
      ],
      "metadata": {
        "id": "_VyaVlhZy_pa"
      }
    },
    {
      "cell_type": "code",
      "source": [
        "maximum_list1 = max(list1)\n",
        "maximum_list2 = max(list2)\n",
        "print(maximum_list1)\n",
        "print(maximum_list2)"
      ],
      "metadata": {
        "colab": {
          "base_uri": "https://localhost:8080/"
        },
        "id": "xfkMx2jgy_x5",
        "outputId": "265543c5-e436-4528-dce8-0b4035d2e069"
      },
      "execution_count": 104,
      "outputs": [
        {
          "output_type": "stream",
          "name": "stdout",
          "text": [
            "29\n",
            "30\n"
          ]
        }
      ]
    },
    {
      "cell_type": "markdown",
      "source": [
        "---\n",
        "(v) Sum of both the lists\n",
        "---"
      ],
      "metadata": {
        "id": "AHgTs2u1y_5R"
      }
    },
    {
      "cell_type": "code",
      "source": [
        "sum(list1) + sum(list2)"
      ],
      "metadata": {
        "colab": {
          "base_uri": "https://localhost:8080/"
        },
        "id": "GhugWgIizAEp",
        "outputId": "e5717d45-e8c5-4b12-fec9-d21a02bfe372"
      },
      "execution_count": 106,
      "outputs": [
        {
          "output_type": "execute_result",
          "data": {
            "text/plain": [
              "406"
            ]
          },
          "metadata": {},
          "execution_count": 106
        }
      ]
    },
    {
      "cell_type": "markdown",
      "source": [
        "---\n",
        "# Q6. WAP to create a list of 100 random numbers between 100 and 900. Count and print the: \n",
        "---"
      ],
      "metadata": {
        "id": "Kqt3VlP839lC"
      }
    },
    {
      "cell_type": "code",
      "source": [
        "number_list = [random.randint(100, 900) for _ in range(100)]\n",
        "number_list"
      ],
      "metadata": {
        "colab": {
          "base_uri": "https://localhost:8080/"
        },
        "id": "gywfvbXw4rEQ",
        "outputId": "798be2ba-1f1b-4b73-c5f6-44ff3bda1b17"
      },
      "execution_count": 111,
      "outputs": [
        {
          "output_type": "execute_result",
          "data": {
            "text/plain": [
              "[641,\n",
              " 310,\n",
              " 866,\n",
              " 537,\n",
              " 496,\n",
              " 524,\n",
              " 385,\n",
              " 881,\n",
              " 343,\n",
              " 211,\n",
              " 454,\n",
              " 385,\n",
              " 134,\n",
              " 141,\n",
              " 639,\n",
              " 209,\n",
              " 592,\n",
              " 552,\n",
              " 546,\n",
              " 843,\n",
              " 386,\n",
              " 686,\n",
              " 439,\n",
              " 430,\n",
              " 482,\n",
              " 448,\n",
              " 706,\n",
              " 169,\n",
              " 823,\n",
              " 155,\n",
              " 713,\n",
              " 899,\n",
              " 892,\n",
              " 140,\n",
              " 374,\n",
              " 638,\n",
              " 827,\n",
              " 535,\n",
              " 480,\n",
              " 817,\n",
              " 420,\n",
              " 311,\n",
              " 681,\n",
              " 763,\n",
              " 327,\n",
              " 574,\n",
              " 467,\n",
              " 355,\n",
              " 761,\n",
              " 291,\n",
              " 179,\n",
              " 618,\n",
              " 613,\n",
              " 349,\n",
              " 609,\n",
              " 428,\n",
              " 193,\n",
              " 570,\n",
              " 335,\n",
              " 314,\n",
              " 143,\n",
              " 732,\n",
              " 292,\n",
              " 820,\n",
              " 215,\n",
              " 562,\n",
              " 692,\n",
              " 890,\n",
              " 122,\n",
              " 451,\n",
              " 390,\n",
              " 159,\n",
              " 207,\n",
              " 830,\n",
              " 386,\n",
              " 398,\n",
              " 776,\n",
              " 513,\n",
              " 167,\n",
              " 454,\n",
              " 351,\n",
              " 325,\n",
              " 851,\n",
              " 830,\n",
              " 597,\n",
              " 702,\n",
              " 461,\n",
              " 706,\n",
              " 791,\n",
              " 214,\n",
              " 607,\n",
              " 319,\n",
              " 167,\n",
              " 299,\n",
              " 319,\n",
              " 278,\n",
              " 309,\n",
              " 485,\n",
              " 287,\n",
              " 491]"
            ]
          },
          "metadata": {},
          "execution_count": 111
        }
      ]
    },
    {
      "cell_type": "markdown",
      "source": [
        "---\n",
        "(i) All odd numbers\n",
        "---"
      ],
      "metadata": {
        "id": "ZCYcCymi4vSh"
      }
    },
    {
      "cell_type": "code",
      "source": [
        "odd_numbers = [num for num in number_list if num % 2 != 0]\n",
        "print(odd_numbers)\n",
        "print(len(odd_numbers))"
      ],
      "metadata": {
        "colab": {
          "base_uri": "https://localhost:8080/"
        },
        "id": "t-zLpg6I6CxJ",
        "outputId": "02000cc1-433d-4ef3-cba4-1c6bae381249"
      },
      "execution_count": 110,
      "outputs": [
        {
          "output_type": "stream",
          "name": "stdout",
          "text": [
            "[321, 113, 445, 309, 219, 415, 275, 847, 665, 685, 299, 227, 627, 571, 883, 827, 291, 721, 883, 863, 647, 103, 621, 543, 711, 133, 433, 867, 603, 633, 561, 251, 881, 531, 527, 455, 597, 425, 271, 499, 533, 143, 803, 575]\n",
            "44\n"
          ]
        }
      ]
    },
    {
      "cell_type": "markdown",
      "source": [
        "---\n",
        "(ii) All even numbers\n",
        "---"
      ],
      "metadata": {
        "id": "hER59BRG6ZtB"
      }
    },
    {
      "cell_type": "code",
      "source": [
        "even_numbers = [num for num in number_list if num % 2 == 0]\n",
        "print(even_numbers)\n",
        "print(len(even_numbers))"
      ],
      "metadata": {
        "colab": {
          "base_uri": "https://localhost:8080/"
        },
        "id": "JkgtjFKo6DZR",
        "outputId": "7ef28cf5-e780-48a3-9429-1e7b55845b68"
      },
      "execution_count": 112,
      "outputs": [
        {
          "output_type": "stream",
          "name": "stdout",
          "text": [
            "[310, 866, 496, 524, 454, 134, 592, 552, 546, 386, 686, 430, 482, 448, 706, 892, 140, 374, 638, 480, 420, 574, 618, 428, 570, 314, 732, 292, 820, 562, 692, 890, 122, 390, 830, 386, 398, 776, 454, 830, 702, 706, 214, 278]\n",
            "44\n"
          ]
        }
      ]
    },
    {
      "cell_type": "markdown",
      "source": [
        "---\n",
        "(iii) All prime numbers\n",
        "---"
      ],
      "metadata": {
        "id": "o92v_QYs6Dlh"
      }
    },
    {
      "cell_type": "code",
      "source": [
        "def is_prime(num):\n",
        "    if num < 2:\n",
        "        return False\n",
        "    for i in range(2, int(num ** 0.5) + 1):\n",
        "        if num % i == 0:\n",
        "            return False\n",
        "    return True\n",
        "\n",
        "prime_numbers = [num for num in number_list if is_prime(num)]\n",
        "print(prime_numbers)\n",
        "print(len(prime_numbers))"
      ],
      "metadata": {
        "colab": {
          "base_uri": "https://localhost:8080/"
        },
        "id": "K0AffmH-6DvJ",
        "outputId": "ed511e23-6677-433a-92b2-8179e092dabf"
      },
      "execution_count": 114,
      "outputs": [
        {
          "output_type": "stream",
          "name": "stdout",
          "text": [
            "[641, 881, 211, 439, 823, 827, 311, 467, 761, 179, 613, 349, 193, 167, 461, 607, 167, 491]\n",
            "18\n"
          ]
        }
      ]
    },
    {
      "cell_type": "markdown",
      "source": [
        "---\n",
        "# Q7. D is a dictionary defined as D={1:\"One\",2:\"Two\",3:\"Three\",4:\"Four\", 5:\"Five\"}.\n",
        "# WAP to read all the keys and values from dictionary and write to the file in the given below format.\n",
        "Key1, Value1\n",
        "\n",
        "Key2, Value2 \n",
        "\n",
        "Key3, Value3\n",
        "\n",
        "---"
      ],
      "metadata": {
        "id": "acTjlUaO8mFR"
      }
    },
    {
      "cell_type": "code",
      "source": [
        "D = {1: \"One\", 2: \"Two\", 3: \"Three\", 4: \"Four\", 5: \"Five\"}\n",
        "\n",
        "\n",
        "with open(\"output.txt\", \"w\") as file:\n",
        "    for key, value in D.items():\n",
        "        file.write(f\"{key}, {value}\\n\")\n"
      ],
      "metadata": {
        "id": "DJhe9Gp09PR4"
      },
      "execution_count": 116,
      "outputs": []
    },
    {
      "cell_type": "markdown",
      "source": [
        "---\n",
        "# Q8. L is a list defined as L={\"One\",\"Two\",\"Three\",\"Four\",\"Five\"}.\n",
        "# WAP to count the length of reach element from a list and write to the file in the given below format:\n",
        "\n",
        "One, 3\n",
        "\n",
        "Two, 3\n",
        "\n",
        "Four, 4\n",
        "\n",
        "---"
      ],
      "metadata": {
        "id": "4EzNei8A9zkP"
      }
    },
    {
      "cell_type": "code",
      "source": [
        "L = [\"One\", \"Two\", \"Three\", \"Four\", \"Five\"]\n",
        "\n",
        "with open(\"output.txt\", \"w\") as file:\n",
        "    for element in L:\n",
        "        length = len(element)\n",
        "        file.write(f\"{element}, {length}\\n\")\n"
      ],
      "metadata": {
        "id": "Vi7qBYFw-HQY"
      },
      "execution_count": 117,
      "outputs": []
    },
    {
      "cell_type": "markdown",
      "source": [
        "---\n",
        "# Q9. Write to the file 100 random strings whose length between 10 and 15.\n",
        "---"
      ],
      "metadata": {
        "id": "Co11r_b9-cyJ"
      }
    },
    {
      "cell_type": "code",
      "source": [
        "import random\n",
        "import string\n",
        "\n",
        "def generate_random_string():\n",
        "    length = random.randint(10, 15)\n",
        "    letters = string.ascii_letters + string.digits + string.punctuation\n",
        "    return ''.join(random.choice(letters) for _ in range(length))\n",
        "\n",
        "with open(\"output.txt\", \"w\") as file:\n",
        "    for _ in range(100):\n",
        "        random_string = generate_random_string()\n",
        "        file.write(random_string + \"\\n\")\n"
      ],
      "metadata": {
        "id": "qOZHZ0Yu-wSS"
      },
      "execution_count": null,
      "outputs": []
    },
    {
      "cell_type": "markdown",
      "source": [
        "---\n",
        "# Q10. Write to the file all prime numbers between 600 and 800.\n",
        "---"
      ],
      "metadata": {
        "id": "KvoEt9Aq-6kY"
      }
    },
    {
      "cell_type": "code",
      "source": [
        "def is_prime(num):\n",
        "    if num < 2:\n",
        "        return False\n",
        "    for i in range(2, int(num ** 0.5) + 1):\n",
        "        if num % i == 0:\n",
        "            return False\n",
        "    return True\n",
        "\n",
        "with open(\"output.txt\", \"w\") as file:\n",
        "    for num in range(600, 801):\n",
        "        if is_prime(num):\n",
        "            file.write(str(num) + \"\\n\")\n"
      ],
      "metadata": {
        "id": "xkyNeeo5-66h"
      },
      "execution_count": null,
      "outputs": []
    },
    {
      "cell_type": "markdown",
      "source": [
        "---\n",
        "# Q11. WAP to calculate the time taken by a program.\n",
        "---"
      ],
      "metadata": {
        "id": "YqgKN2Zb_Sqp"
      }
    },
    {
      "cell_type": "code",
      "source": [
        "import time\n",
        "\n",
        "start_time = time.time()\n",
        "\n",
        "end_time = time.time()\n",
        "\n",
        "elapsed_time = end_time - start_time\n",
        "\n",
        "print(\"Time taken:\", elapsed_time, \"seconds\")\n"
      ],
      "metadata": {
        "colab": {
          "base_uri": "https://localhost:8080/"
        },
        "id": "923P-Q3U_WuB",
        "outputId": "192d092b-e929-4ff6-bdcf-c3d5c7716778"
      },
      "execution_count": 118,
      "outputs": [
        {
          "output_type": "stream",
          "name": "stdout",
          "text": [
            "Time taken: 4.458427429199219e-05 seconds\n"
          ]
        }
      ]
    },
    {
      "cell_type": "markdown",
      "source": [
        "---\n",
        "# Q12. WAP to sort following number of elements in a list, calculate time taken and plot the graph.\n",
        "Number of elements in list, Time Taken\n",
        "\n",
        "5k, T1\n",
        "\n",
        "10k, T2\n",
        "\n",
        "15k, T3\n",
        "\n",
        "20k, T4\n",
        "\n",
        "25k, T5\n",
        "\n",
        "---"
      ],
      "metadata": {
        "id": "tsufveNf_27h"
      }
    },
    {
      "cell_type": "code",
      "source": [
        "import time\n",
        "import matplotlib.pyplot as plt\n",
        "\n",
        "def sort_list(num_elements):\n",
        "    # Generate a list of random numbers\n",
        "    my_list = [random.randint(1, 100) for _ in range(num_elements)]\n",
        "    \n",
        "    # Start the timer\n",
        "    start_time = time.time()\n",
        "    \n",
        "    # Sort the list\n",
        "    my_list.sort()\n",
        "    \n",
        "    # End the timer\n",
        "    end_time = time.time()\n",
        "    \n",
        "    # Calculate the time taken\n",
        "    elapsed_time = end_time - start_time\n",
        "    \n",
        "    return elapsed_time\n",
        "\n",
        "# Define the number of elements and corresponding labels\n",
        "num_elements = [5000, 10000, 15000, 20000, 25000]\n",
        "time_taken = [0, 0, 0, 0, 0]  # Placeholder list to store the time taken\n",
        "\n",
        "# Iterate over the number of elements and corresponding time labels\n",
        "for i in range(len(num_elements)):\n",
        "    # Sort the list and measure the time taken\n",
        "    time_taken[i] = sort_list(num_elements[i])\n",
        "\n",
        "# Plot the graph\n",
        "plt.plot(num_elements, time_taken, marker=\"o\")\n",
        "plt.xlabel(\"Number of Elements\")\n",
        "plt.ylabel(\"Time Taken (seconds)\")\n",
        "plt.title(\"Sorting Time\")\n",
        "plt.show()\n"
      ],
      "metadata": {
        "colab": {
          "base_uri": "https://localhost:8080/",
          "height": 472
        },
        "id": "_ypjrrMwAln4",
        "outputId": "a3a0a0b7-9451-4dfa-827a-fb58136b87af"
      },
      "execution_count": 125,
      "outputs": [
        {
          "output_type": "display_data",
          "data": {
            "text/plain": [
              "<Figure size 640x480 with 1 Axes>"
            ],
            "image/png": "[encoded data removed]"
          },
          "metadata": {}
        }
      ]
    },
    {
      "cell_type": "markdown",
      "source": [
        "---\n",
        "# Q13. WAP to create a dictionary of student marks in five subjects and you have to find the student having maximum and minimum average marks.\n",
        "---"
      ],
      "metadata": {
        "id": "2fjgSGxfGEW6"
      }
    },
    {
      "cell_type": "code",
      "source": [
        "# Dictionary of student marks\n",
        "student_marks = {\n",
        "    \"Alice\": [85, 90, 92, 88, 87],\n",
        "    \"Bob\": [92, 87, 85, 90, 89],\n",
        "    \"Charlie\": [78, 82, 80, 85, 88],\n",
        "    \"David\": [90, 85, 92, 86, 88],\n",
        "    \"Eve\": [88, 86, 90, 92, 85]\n",
        "}\n",
        "\n",
        "# Calculate the average marks for each student\n",
        "average_marks = {}\n",
        "for student, marks in student_marks.items():\n",
        "    average_marks[student] = sum(marks) / len(marks)\n",
        "\n",
        "# Find the student with maximum and minimum average marks\n",
        "max_student = max(average_marks, key=average_marks.get)\n",
        "min_student = min(average_marks, key=average_marks.get)\n",
        "\n",
        "# Print the results\n",
        "print(\"Student with Maximum Average Marks:\")\n",
        "print(f\"Student: {max_student}\")\n",
        "print(f\"Average Marks: {average_marks[max_student]}\")\n",
        "\n",
        "print(\"\\nStudent with Minimum Average Marks:\")\n",
        "print(f\"Student: {min_student}\")\n",
        "print(f\"Average Marks: {average_marks[min_student]}\")\n"
      ],
      "metadata": {
        "colab": {
          "base_uri": "https://localhost:8080/"
        },
        "id": "jmFmujsPGOjQ",
        "outputId": "84eebc11-6fb2-48f2-bb1c-3b4a0b715289"
      },
      "execution_count": 126,
      "outputs": [
        {
          "output_type": "stream",
          "name": "stdout",
          "text": [
            "Student with Maximum Average Marks:\n",
            "Student: Bob\n",
            "Average Marks: 88.6\n",
            "\n",
            "Student with Minimum Average Marks:\n",
            "Student: Charlie\n",
            "Average Marks: 82.6\n"
          ]
        }
      ]
    }
  ]
}